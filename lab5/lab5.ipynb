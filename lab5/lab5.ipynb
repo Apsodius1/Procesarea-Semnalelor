{
 "cells": [
  {
   "cell_type": "code",
   "execution_count": 4,
   "metadata": {},
   "outputs": [],
   "source": [
    "import numpy as np\n",
    "import matplotlib.pyplot as plt\n",
    "import csv"
   ]
  },
  {
   "cell_type": "code",
   "execution_count": null,
   "metadata": {},
   "outputs": [],
   "source": [
    "# Exercitiul 1a): 1/3600Hz\n",
    "# Exercitiul 1b): 18288 * 3600 = 65836800 s\n",
    "# Exercitiul 1c): 1/3600 / 2 = 1/7200 Hz"
   ]
  },
  {
   "cell_type": "code",
   "execution_count": 9,
   "metadata": {},
   "outputs": [],
   "source": [
    "x = np.genfromtxt('data/Train.csv', delimiter=',', skip_header=1)\n",
    "X = np.fft.fft(x)\n",
    "N = len(X)\n",
    "X = abs(X/N)\n",
    "X = X[:int(N/2)]\n",
    "f = 1/3600 * np.linspace(0, N//2, N//2)/N"
   ]
  },
  {
   "cell_type": "code",
   "execution_count": null,
   "metadata": {},
   "outputs": [],
   "source": []
  }
 ],
 "metadata": {
  "kernelspec": {
   "display_name": "Python 3",
   "language": "python",
   "name": "python3"
  },
  "language_info": {
   "codemirror_mode": {
    "name": "ipython",
    "version": 3
   },
   "file_extension": ".py",
   "mimetype": "text/x-python",
   "name": "python",
   "nbconvert_exporter": "python",
   "pygments_lexer": "ipython3",
   "version": "3.11.1"
  }
 },
 "nbformat": 4,
 "nbformat_minor": 2
}
